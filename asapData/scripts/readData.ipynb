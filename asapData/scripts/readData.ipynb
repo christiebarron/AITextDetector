{
 "cells": [
  {
   "cell_type": "markdown",
   "metadata": {},
   "source": [
    "# NLP Pipeline Jupyter Notebook for the aiTextDetect Project\n",
    "\n",
    "## Reading in the ASAP kaggle datasets"
   ]
  },
  {
   "attachments": {},
   "cell_type": "markdown",
   "metadata": {},
   "source": [
    "To do:\n",
    "- create usable id variable (how to reconcile ai and human ids)\n",
    "- merge ai to human"
   ]
  },
  {
   "cell_type": "code",
   "execution_count": 43,
   "metadata": {
    "scrolled": true
   },
   "outputs": [],
   "source": [
    "#install dependencies\n",
    "import pandas as pd\n",
    "import numpy as np\n",
    "#import plotnine as p9"
   ]
  },
  {
   "cell_type": "code",
   "execution_count": 44,
   "metadata": {},
   "outputs": [],
   "source": [
    "#read the human datasets\n",
    "\n",
    "#read in the training dataset\n",
    "trainDf = pd.read_excel(\"../rawData/training_set_rel3.xlsx\")\n",
    "trainDf = trainDf[[\"essay_id\", \"essay_set\", \"essay\"]] #only keep relevant colummns\n",
    "trainDf[\"ai_llm\"] = \"human-generated\"\n",
    "trainDf[\"ai_generated\"] = 0 #create new variable desigating whether the data are ai generated (1) or human generated (0)\n",
    "trainDf\n",
    "\n",
    "#read in the validation dataset\n",
    "validDf = pd.read_excel(\"../rawData/valid_set.xlsx\")\n",
    "validDf = validDf[[\"essay_id\", \"essay_set\", \"essay\"]] #only keep relevant colummns\n",
    "validDf[\"ai_llm\"] = \"human-generated\"\n",
    "validDf[\"ai_generated\"] = 0 #create new variable desigating whether the data are ai generated (1) or human generated (0)\n",
    "validDf\n",
    "\n",
    "#read in the 'test' dataset (we'll create our own k-fold crossvalidation)\n",
    "testDf = pd.read_csv(\"../rawData/test_set.tsv\", sep = \"\\t\", encoding = \"latin-1\") #got an error with default encoding. This site https://github.com/nusnlp/nea/issues/11 suggested latin-1 encoding\n",
    "testDf = testDf[[\"essay_id\", \"essay_set\", \"essay\"]] #keep relevant columns\n",
    "testDf[\"ai_llm\"] = \"human-generated\"\n",
    "testDf[\"ai_generated\"] = 0 #create new variable desigating whether the data are ai generated (1) or human generated (0)\n",
    "\n",
    "\n"
   ]
  },
  {
   "cell_type": "code",
   "execution_count": 51,
   "metadata": {},
   "outputs": [],
   "source": [
    "#read and wrangle ai data\n",
    "aiDf = pd.read_excel(\"../rawData/aiGenerated.xlsx\")\n",
    "aiDf2 = pd.read_excel(\"../rawData/aiGenerated1.xlsx\")\n",
    "#aiDf[\"essay_id\"] = aiDf.index #add an id variable based on the index (go from 1 to n)\n",
    "aiDf2[\"essay_set\"] = 1 #need to determine how to best add the set variable. This is ductape for now\n",
    "#aiDf[\"ai\"] = \"ai\" #create a variable to be used in creating an id variable that distinguishes ai and human scores.\n",
    "aiDf[\"ai_generated\"] = 1\n",
    "aiDf2[\"ai_generated\"] = 1\n",
    "\n",
    "\n"
   ]
  },
  {
   "cell_type": "code",
   "execution_count": 52,
   "metadata": {},
   "outputs": [
    {
     "name": "stdout",
     "output_type": "stream",
     "text": [
      "Index(['Unnamed: 0', 'row_id', 'essay_id', 'ai_llm', 'ai_essay',\n",
      "       'ai_generated'],\n",
      "      dtype='object')\n",
      "Index(['Unnamed: 0', 'ai_prompt', 'ai_llm', 'ai_text', 'essay_set',\n",
      "       'ai_generated'],\n",
      "      dtype='object')\n",
      "Index(['essay_id', 'essay_set', 'essay', 'ai_llm', 'ai_generated'], dtype='object')\n",
      "Index(['essay_id', 'essay_set', 'essay', 'ai_llm', 'ai_generated'], dtype='object')\n",
      "Index(['essay_id', 'essay_set', 'essay', 'ai_llm', 'ai_generated'], dtype='object')\n"
     ]
    }
   ],
   "source": [
    "print(aiDf.columns)\n",
    "print(aiDf2.columns)\n",
    "print(trainDf.columns)\n",
    "print(testDf.columns)\n",
    "print(validDf.columns)"
   ]
  },
  {
   "cell_type": "code",
   "execution_count": 53,
   "metadata": {},
   "outputs": [],
   "source": [
    "aiDf = aiDf.rename(columns = {\n",
    "    \"essay_id\" : \"essay_set\",\n",
    "    \"ai_essay\" : \"essay\",\n",
    "    \"row_id\" : \"essay_id\",\n",
    "})\n",
    "\n",
    "aiDf2 = aiDf2.rename(columns = {\n",
    "    \"ai_text\" : \"essay\",\n",
    "    \"Unnamed: 0\" : \"essay_id\",\n",
    "})\n",
    "\n"
   ]
  },
  {
   "cell_type": "code",
   "execution_count": 54,
   "metadata": {},
   "outputs": [
    {
     "name": "stdout",
     "output_type": "stream",
     "text": [
      "Index(['Unnamed: 0', 'essay_id', 'essay_set', 'ai_llm', 'essay',\n",
      "       'ai_generated'],\n",
      "      dtype='object')\n",
      "Index(['essay_id', 'ai_prompt', 'ai_llm', 'essay', 'essay_set',\n",
      "       'ai_generated'],\n",
      "      dtype='object')\n",
      "Index(['essay_id', 'essay_set', 'essay', 'ai_llm', 'ai_generated'], dtype='object')\n",
      "Index(['essay_id', 'essay_set', 'essay', 'ai_llm', 'ai_generated'], dtype='object')\n",
      "Index(['essay_id', 'essay_set', 'essay', 'ai_llm', 'ai_generated'], dtype='object')\n"
     ]
    }
   ],
   "source": [
    "print(aiDf.columns)\n",
    "print(aiDf2.columns)\n",
    "print(trainDf.columns)\n",
    "print(testDf.columns)\n",
    "print(validDf.columns)"
   ]
  },
  {
   "cell_type": "code",
   "execution_count": 59,
   "metadata": {},
   "outputs": [],
   "source": [
    "aiDf = aiDf.loc[:,[\"essay_id\", \"essay_set\", \"essay\", \"ai_llm\", \"ai_generated\"]]\n",
    "aiDf2 = aiDf2.loc[:,[\"essay_id\", \"essay_set\", \"essay\", \"ai_llm\", \"ai_generated\"]]"
   ]
  },
  {
   "cell_type": "code",
   "execution_count": 58,
   "metadata": {},
   "outputs": [
    {
     "data": {
      "text/plain": [
       "Index(['Unnamed: 0', 'essay_id', 'essay_set', 'ai_llm', 'essay',\n",
       "       'ai_generated'],\n",
       "      dtype='object')"
      ]
     },
     "execution_count": 58,
     "metadata": {},
     "output_type": "execute_result"
    }
   ],
   "source": [
    "aiDf.columns"
   ]
  },
  {
   "cell_type": "code",
   "execution_count": 60,
   "metadata": {},
   "outputs": [],
   "source": [
    "#merge the three human datasets into a preliminary dataset\n",
    "mergeDf = pd.concat([trainDf, validDf, testDf, aiDf, aiDf2], axis = 0)\n",
    "\n",
    "\n",
    "\n"
   ]
  },
  {
   "cell_type": "code",
   "execution_count": 63,
   "metadata": {},
   "outputs": [],
   "source": [
    "#write merged file to excel doc\n",
    "mergeDf.to_excel(\"../cleanData/mergedAsap.xlsx\")"
   ]
  }
 ],
 "metadata": {
  "kernelspec": {
   "display_name": "Python 3 (ipykernel)",
   "language": "python",
   "name": "python3"
  },
  "language_info": {
   "codemirror_mode": {
    "name": "ipython",
    "version": 3
   },
   "file_extension": ".py",
   "mimetype": "text/x-python",
   "name": "python",
   "nbconvert_exporter": "python",
   "pygments_lexer": "ipython3",
   "version": "3.9.13"
  }
 },
 "nbformat": 4,
 "nbformat_minor": 2
}
