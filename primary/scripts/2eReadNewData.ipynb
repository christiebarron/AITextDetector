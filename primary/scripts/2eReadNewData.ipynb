{
 "cells": [
  {
   "cell_type": "code",
   "execution_count": 1,
   "metadata": {},
   "outputs": [],
   "source": [
    "import os\n",
    "import pandas as pd\n"
   ]
  },
  {
   "cell_type": "code",
   "execution_count": 2,
   "metadata": {},
   "outputs": [],
   "source": [
    "raw_text_directory = \"../rawData/HumanEssays/humanArgumentativeEssay/\"\n",
    "raw_excel_directory = \"../rawData/\""
   ]
  },
  {
   "cell_type": "code",
   "execution_count": 13,
   "metadata": {},
   "outputs": [],
   "source": [
    "#save all the ai essays to a pandas dataframe ######\n",
    "\n",
    "text_list = [] #create a list to add text files to.\n",
    "ai_llm = [] #a list of the large language model used\n",
    "eid = [] #essay prompt id\n",
    "row_id = [] #final number\n",
    "files = os.listdir(raw_text_directory) #get a list of all file names within the directory\n",
    "filename_id = []\n",
    "\n",
    "#extract relevant information from ai-generated text files\n",
    "for f in files:\n",
    "    filename = f'{raw_text_directory}{f}' #save the filename\n",
    "\n",
    "    with open(filename, 'r') as f: #open filename and save the text in it\n",
    "        text_list.append(f.read())\n",
    "    \n",
    "    #append metadata saved in the filename (llm used, essay prompt, and row id)\n",
    "    filename_id.append(filename.split(\"/\")[4].split(\".\")[0])\n",
    "    \n",
    "    #ai_llm.append(filename.split(\"_\")[1])\n",
    "    #try:\n",
    "    #    eid.append(filename.split(\"_\")[0].split(\"d\")[1])\n",
    "    #except:\n",
    "    #    eid.append(f\"eid{filename.split('_')[0]}\")\n",
    "    #row_id.append(filename.split(\"_\")[2].split(\".\")[0])\n",
    "    \n",
    "    \n",
    "#save all extracted text to a pandas dataframe, then excel file.\n",
    "df = pd.DataFrame({\"original_id\" : filename_id, \"text\" : text_list})\n",
    "df.to_excel(f\"{raw_excel_directory}HumanArgumentative.xlsx\")"
   ]
  }
 ],
 "metadata": {
  "kernelspec": {
   "display_name": "base",
   "language": "python",
   "name": "python3"
  },
  "language_info": {
   "codemirror_mode": {
    "name": "ipython",
    "version": 3
   },
   "file_extension": ".py",
   "mimetype": "text/x-python",
   "name": "python",
   "nbconvert_exporter": "python",
   "pygments_lexer": "ipython3",
   "version": "3.9.13"
  },
  "orig_nbformat": 4
 },
 "nbformat": 4,
 "nbformat_minor": 2
}
