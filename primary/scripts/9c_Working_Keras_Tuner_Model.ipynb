{
  "nbformat": 4,
  "nbformat_minor": 0,
  "metadata": {
    "colab": {
      "provenance": []
    },
    "kernelspec": {
      "name": "python3",
      "display_name": "Python 3"
    },
    "language_info": {
      "name": "python"
    }
  },
  "cells": [
    {
      "cell_type": "code",
      "execution_count": 1,
      "metadata": {
        "id": "VFto_1PY4cmq"
      },
      "outputs": [],
      "source": [
        "import pandas as pd\n",
        "from tensorflow.keras.models import Sequential\n",
        "from tensorflow.keras.layers import Dense, Conv1D, Flatten\n",
        "from sklearn.model_selection import train_test_split"
      ]
    },
    {
      "cell_type": "code",
      "source": [
        "df=pd.read_excel('4aFeaturesAsap-2.xlsx')"
      ],
      "metadata": {
        "id": "1639GUzK5Vw6"
      },
      "execution_count": 3,
      "outputs": []
    },
    {
      "cell_type": "code",
      "source": [
        "df.columns"
      ],
      "metadata": {
        "colab": {
          "base_uri": "https://localhost:8080/"
        },
        "id": "vCxN0vkO6F81",
        "outputId": "dc85579b-343d-4d1d-c0f1-3592774e9e8c"
      },
      "execution_count": 4,
      "outputs": [
        {
          "output_type": "execute_result",
          "data": {
            "text/plain": [
              "Index([               'Unnamed: 0.1',                  'Unnamed: 0',\n",
              "                          'essay_id',                   'essay_set',\n",
              "                             'essay',                      'ai_llm',\n",
              "                      'ai_generated',                 'word_tokens',\n",
              "                   'sentence_tokens',      'lemmatized_word_tokens',\n",
              "                  'total_word_count',             'avg_word_length',\n",
              "               'avg_sentence_length',                         'TTR',\n",
              "                   'stop_word_count',           'unique_word_count',\n",
              "                         'word_freq',                 'bigram_freq',\n",
              "                      'trigram_freq',             'rare_word_count',\n",
              "             'avg_sentence_length.1',        'avg_parse_tree_depth',\n",
              "        'parse_tree_depth_variation', 'avg_adjectives_per_sentence',\n",
              "          'avg_adverbs_per_sentence',      'avg_verbs_per_sentence',\n",
              "            'avg_nouns_per_sentence',                             0,\n",
              "               'flesch_reading_ease',  'flesch_kincaid_grade_level',\n",
              "                        'smog_index',          'sentiment_polarity',\n",
              "            'sentiment.subjectivity'],\n",
              "      dtype='object')"
            ]
          },
          "metadata": {},
          "execution_count": 4
        }
      ]
    },
    {
      "cell_type": "code",
      "source": [
        "from sklearn.ensemble import RandomForestClassifier\n",
        "import numpy as np\n",
        "\n",
        "# Initialize the model\n",
        "rf = RandomForestClassifier()\n",
        "\n",
        "features = df.drop(['ai_generated',\n",
        "                    'Unnamed: 0.1',\n",
        "                    'Unnamed: 0',\n",
        "                    'essay',\n",
        "                    'essay_id',\n",
        "                    'essay_set',\n",
        "                    'ai_llm',\n",
        "                    'word_tokens',\n",
        "                    'sentence_tokens',\n",
        "                    'lemmatized_word_tokens',\n",
        "                    'total_word_count',\n",
        "                    'avg_word_length',\n",
        "                    'avg_sentence_length',\n",
        "                    \"parse_tree_depth_variation\",\n",
        "                    0,\n",
        "                    'rare_word_count',\n",
        "                    'avg_sentence_length.1',\n",
        "                    'word_freq',\n",
        "                    'bigram_freq',\n",
        "                    'trigram_freq'], axis=1)  # drop the target column\n",
        "labels = df['ai_generated']\n",
        "\n",
        "# Train the model\n",
        "rf.fit(features, labels)\n",
        "\n",
        "# Get feature importances\n",
        "importances = rf.feature_importances_\n",
        "\n",
        "# Create a DataFrame for visualization\n",
        "feature_list = pd.DataFrame({'feature': features.columns, 'importance': importances})\n",
        "\n",
        "# Sort DataFrame by importance\n",
        "feature_list = feature_list.sort_values('importance', ascending=False)\n",
        "\n",
        "# Print the top 10 features\n",
        "print(feature_list.head(10))"
      ],
      "metadata": {
        "colab": {
          "base_uri": "https://localhost:8080/"
        },
        "id": "JdFIBKwR52fw",
        "outputId": "8aa8f6eb-455e-44a9-d41d-5264fa486c1e"
      },
      "execution_count": 5,
      "outputs": [
        {
          "output_type": "stream",
          "name": "stdout",
          "text": [
            "                       feature  importance\n",
            "1              stop_word_count    0.229650\n",
            "2            unique_word_count    0.170188\n",
            "0                          TTR    0.112531\n",
            "10                  smog_index    0.085572\n",
            "7       avg_nouns_per_sentence    0.070421\n",
            "8          flesch_reading_ease    0.067156\n",
            "3         avg_parse_tree_depth    0.051870\n",
            "6       avg_verbs_per_sentence    0.046777\n",
            "9   flesch_kincaid_grade_level    0.037155\n",
            "11          sentiment_polarity    0.036790\n"
          ]
        }
      ]
    },
    {
      "cell_type": "code",
      "source": [
        "# Select top 10 features\n",
        "top_features = feature_list.head(10)\n",
        "\n",
        "# Get the names of the top 10 features\n",
        "top_feature_names = top_features['feature'].values\n",
        "\n",
        "# Create a DataFrame containing only the top 10 features\n",
        "selected_features_df = df[top_feature_names]\n"
      ],
      "metadata": {
        "id": "4WQVA6I18G26"
      },
      "execution_count": 6,
      "outputs": []
    },
    {
      "cell_type": "code",
      "source": [
        "# Assuming `selected_features_df` is your DataFrame containing only the top 10 features\n",
        "selected_features = selected_features_df\n",
        "\n",
        "# Prepare input data for the model\n",
        "X = selected_features.values.reshape(-1, 10, 1)  # reshape for CNN\n",
        "Y = df['ai_generated'].values\n",
        "\n",
        "# Split the data into training and validation sets\n",
        "from sklearn.model_selection import train_test_split\n",
        "X_train, X_test, Y_train, Y_test = train_test_split(X, Y, test_size=0.33, random_state=42)\n",
        "\n",
        "# Import necessary packages\n",
        "from tensorflow.keras.models import Sequential\n",
        "from tensorflow.keras.layers import Conv1D, Flatten, Dense\n",
        "\n",
        "# Define CNN model\n",
        "model = Sequential()\n",
        "model.add(Conv1D(32, 2, activation='relu', input_shape=(10, 1)))\n",
        "model.add(Flatten())\n",
        "model.add(Dense(64, activation='relu'))\n",
        "model.add(Dense(1, activation='sigmoid'))\n",
        "\n",
        "# Compile the model\n",
        "model.compile(optimizer='adam', loss='binary_crossentropy', metrics=['accuracy'])\n",
        "\n"
      ],
      "metadata": {
        "id": "s-Hxipc8_ivZ"
      },
      "execution_count": 7,
      "outputs": []
    },
    {
      "cell_type": "code",
      "source": [
        "# Train the model\n",
        "model.fit(X_train, Y_train, epochs=50, validation_data=(X_test, Y_test), batch_size=32)"
      ],
      "metadata": {
        "colab": {
          "base_uri": "https://localhost:8080/"
        },
        "id": "bIlyN4Qf_m8j",
        "outputId": "71bd41c2-777e-4e62-a60f-431c5546f015"
      },
      "execution_count": 8,
      "outputs": [
        {
          "output_type": "stream",
          "name": "stdout",
          "text": [
            "Epoch 1/50\n",
            "904/904 [==============================] - 5s 3ms/step - loss: 0.4417 - accuracy: 0.8008 - val_loss: 0.3907 - val_accuracy: 0.8293\n",
            "Epoch 2/50\n",
            "904/904 [==============================] - 3s 3ms/step - loss: 0.3598 - accuracy: 0.8480 - val_loss: 0.3177 - val_accuracy: 0.8712\n",
            "Epoch 3/50\n",
            "904/904 [==============================] - 2s 3ms/step - loss: 0.3384 - accuracy: 0.8574 - val_loss: 0.3026 - val_accuracy: 0.8740\n",
            "Epoch 4/50\n",
            "904/904 [==============================] - 3s 4ms/step - loss: 0.3359 - accuracy: 0.8598 - val_loss: 0.3838 - val_accuracy: 0.8352\n",
            "Epoch 5/50\n",
            "904/904 [==============================] - 2s 3ms/step - loss: 0.3240 - accuracy: 0.8639 - val_loss: 0.2993 - val_accuracy: 0.8784\n",
            "Epoch 6/50\n",
            "904/904 [==============================] - 2s 3ms/step - loss: 0.3210 - accuracy: 0.8665 - val_loss: 0.4825 - val_accuracy: 0.7722\n",
            "Epoch 7/50\n",
            "904/904 [==============================] - 2s 3ms/step - loss: 0.3167 - accuracy: 0.8686 - val_loss: 0.3142 - val_accuracy: 0.8681\n",
            "Epoch 8/50\n",
            "904/904 [==============================] - 2s 3ms/step - loss: 0.3095 - accuracy: 0.8716 - val_loss: 0.2925 - val_accuracy: 0.8768\n",
            "Epoch 9/50\n",
            "904/904 [==============================] - 3s 4ms/step - loss: 0.3067 - accuracy: 0.8732 - val_loss: 0.2831 - val_accuracy: 0.8815\n",
            "Epoch 10/50\n",
            "904/904 [==============================] - 2s 3ms/step - loss: 0.3077 - accuracy: 0.8723 - val_loss: 0.2988 - val_accuracy: 0.8763\n",
            "Epoch 11/50\n",
            "904/904 [==============================] - 2s 3ms/step - loss: 0.3001 - accuracy: 0.8765 - val_loss: 0.3432 - val_accuracy: 0.8574\n",
            "Epoch 12/50\n",
            "904/904 [==============================] - 3s 3ms/step - loss: 0.3040 - accuracy: 0.8743 - val_loss: 0.2753 - val_accuracy: 0.8863\n",
            "Epoch 13/50\n",
            "904/904 [==============================] - 2s 3ms/step - loss: 0.2938 - accuracy: 0.8779 - val_loss: 0.2764 - val_accuracy: 0.8841\n",
            "Epoch 14/50\n",
            "904/904 [==============================] - 4s 4ms/step - loss: 0.2992 - accuracy: 0.8761 - val_loss: 0.2757 - val_accuracy: 0.8865\n",
            "Epoch 15/50\n",
            "904/904 [==============================] - 2s 3ms/step - loss: 0.2931 - accuracy: 0.8805 - val_loss: 0.2855 - val_accuracy: 0.8821\n",
            "Epoch 16/50\n",
            "904/904 [==============================] - 3s 3ms/step - loss: 0.2932 - accuracy: 0.8795 - val_loss: 0.2765 - val_accuracy: 0.8841\n",
            "Epoch 17/50\n",
            "904/904 [==============================] - 2s 3ms/step - loss: 0.2895 - accuracy: 0.8824 - val_loss: 0.2802 - val_accuracy: 0.8885\n",
            "Epoch 18/50\n",
            "904/904 [==============================] - 3s 3ms/step - loss: 0.2859 - accuracy: 0.8838 - val_loss: 0.2704 - val_accuracy: 0.8878\n",
            "Epoch 19/50\n",
            "904/904 [==============================] - 3s 3ms/step - loss: 0.2867 - accuracy: 0.8838 - val_loss: 0.2998 - val_accuracy: 0.8771\n",
            "Epoch 20/50\n",
            "904/904 [==============================] - 2s 3ms/step - loss: 0.2822 - accuracy: 0.8857 - val_loss: 0.2678 - val_accuracy: 0.8929\n",
            "Epoch 21/50\n",
            "904/904 [==============================] - 2s 3ms/step - loss: 0.2759 - accuracy: 0.8876 - val_loss: 0.2729 - val_accuracy: 0.8895\n",
            "Epoch 22/50\n",
            "904/904 [==============================] - 2s 3ms/step - loss: 0.2791 - accuracy: 0.8867 - val_loss: 0.2742 - val_accuracy: 0.8886\n",
            "Epoch 23/50\n",
            "904/904 [==============================] - 4s 4ms/step - loss: 0.2754 - accuracy: 0.8878 - val_loss: 0.2725 - val_accuracy: 0.8911\n",
            "Epoch 24/50\n",
            "904/904 [==============================] - 2s 3ms/step - loss: 0.2730 - accuracy: 0.8889 - val_loss: 0.2701 - val_accuracy: 0.8893\n",
            "Epoch 25/50\n",
            "904/904 [==============================] - 2s 3ms/step - loss: 0.2715 - accuracy: 0.8896 - val_loss: 0.2597 - val_accuracy: 0.8962\n",
            "Epoch 26/50\n",
            "904/904 [==============================] - 2s 3ms/step - loss: 0.2715 - accuracy: 0.8911 - val_loss: 0.2628 - val_accuracy: 0.8924\n",
            "Epoch 27/50\n",
            "904/904 [==============================] - 2s 3ms/step - loss: 0.2717 - accuracy: 0.8898 - val_loss: 0.2675 - val_accuracy: 0.8914\n",
            "Epoch 28/50\n",
            "904/904 [==============================] - 4s 4ms/step - loss: 0.2686 - accuracy: 0.8908 - val_loss: 0.2697 - val_accuracy: 0.8873\n",
            "Epoch 29/50\n",
            "904/904 [==============================] - 2s 3ms/step - loss: 0.2689 - accuracy: 0.8899 - val_loss: 0.2680 - val_accuracy: 0.8953\n",
            "Epoch 30/50\n",
            "904/904 [==============================] - 2s 3ms/step - loss: 0.2668 - accuracy: 0.8912 - val_loss: 0.2555 - val_accuracy: 0.8969\n",
            "Epoch 31/50\n",
            "904/904 [==============================] - 2s 2ms/step - loss: 0.2671 - accuracy: 0.8911 - val_loss: 0.2529 - val_accuracy: 0.8956\n",
            "Epoch 32/50\n",
            "904/904 [==============================] - 2s 3ms/step - loss: 0.2659 - accuracy: 0.8912 - val_loss: 0.2508 - val_accuracy: 0.8981\n",
            "Epoch 33/50\n",
            "904/904 [==============================] - 3s 4ms/step - loss: 0.2648 - accuracy: 0.8926 - val_loss: 0.2706 - val_accuracy: 0.8896\n",
            "Epoch 34/50\n",
            "904/904 [==============================] - 2s 3ms/step - loss: 0.2651 - accuracy: 0.8931 - val_loss: 0.2522 - val_accuracy: 0.8981\n",
            "Epoch 35/50\n",
            "904/904 [==============================] - 2s 3ms/step - loss: 0.2633 - accuracy: 0.8936 - val_loss: 0.2567 - val_accuracy: 0.8946\n",
            "Epoch 36/50\n",
            "904/904 [==============================] - 2s 3ms/step - loss: 0.2634 - accuracy: 0.8930 - val_loss: 0.2663 - val_accuracy: 0.8893\n",
            "Epoch 37/50\n",
            "904/904 [==============================] - 2s 3ms/step - loss: 0.2612 - accuracy: 0.8939 - val_loss: 0.2617 - val_accuracy: 0.8936\n",
            "Epoch 38/50\n",
            "904/904 [==============================] - 3s 4ms/step - loss: 0.2607 - accuracy: 0.8939 - val_loss: 0.2593 - val_accuracy: 0.8950\n",
            "Epoch 39/50\n",
            "904/904 [==============================] - 2s 3ms/step - loss: 0.2608 - accuracy: 0.8936 - val_loss: 0.2586 - val_accuracy: 0.8968\n",
            "Epoch 40/50\n",
            "904/904 [==============================] - 2s 3ms/step - loss: 0.2591 - accuracy: 0.8947 - val_loss: 0.2458 - val_accuracy: 0.8993\n",
            "Epoch 41/50\n",
            "904/904 [==============================] - 2s 2ms/step - loss: 0.2610 - accuracy: 0.8940 - val_loss: 0.2463 - val_accuracy: 0.8995\n",
            "Epoch 42/50\n",
            "904/904 [==============================] - 3s 3ms/step - loss: 0.2598 - accuracy: 0.8934 - val_loss: 0.2561 - val_accuracy: 0.8972\n",
            "Epoch 43/50\n",
            "904/904 [==============================] - 3s 4ms/step - loss: 0.2573 - accuracy: 0.8951 - val_loss: 0.2557 - val_accuracy: 0.8941\n",
            "Epoch 44/50\n",
            "904/904 [==============================] - 3s 3ms/step - loss: 0.2565 - accuracy: 0.8957 - val_loss: 0.2490 - val_accuracy: 0.8955\n",
            "Epoch 45/50\n",
            "904/904 [==============================] - 2s 3ms/step - loss: 0.2574 - accuracy: 0.8959 - val_loss: 0.2635 - val_accuracy: 0.8924\n",
            "Epoch 46/50\n",
            "904/904 [==============================] - 2s 3ms/step - loss: 0.2579 - accuracy: 0.8945 - val_loss: 0.2490 - val_accuracy: 0.8981\n",
            "Epoch 47/50\n",
            "904/904 [==============================] - 3s 3ms/step - loss: 0.2558 - accuracy: 0.8967 - val_loss: 0.2584 - val_accuracy: 0.8939\n",
            "Epoch 48/50\n",
            "904/904 [==============================] - 3s 4ms/step - loss: 0.2539 - accuracy: 0.8974 - val_loss: 0.2489 - val_accuracy: 0.8996\n",
            "Epoch 49/50\n",
            "904/904 [==============================] - 2s 3ms/step - loss: 0.2559 - accuracy: 0.8948 - val_loss: 0.2542 - val_accuracy: 0.8975\n",
            "Epoch 50/50\n",
            "904/904 [==============================] - 3s 3ms/step - loss: 0.2534 - accuracy: 0.8963 - val_loss: 0.2512 - val_accuracy: 0.8965\n"
          ]
        },
        {
          "output_type": "execute_result",
          "data": {
            "text/plain": [
              "<keras.callbacks.History at 0x79af5f9c7430>"
            ]
          },
          "metadata": {},
          "execution_count": 8
        }
      ]
    },
    {
      "cell_type": "code",
      "source": [
        "from sklearn.metrics import confusion_matrix, classification_report\n",
        "\n",
        "# Predict the values from the validation dataset\n",
        "Y_pred = (model.predict(X_test) > 0.5).astype(\"int32\")\n",
        "\n",
        "# Compute the confusion matrix\n",
        "confusion_mtx = confusion_matrix(Y_test, Y_pred)\n",
        "\n",
        "# Print the confusion matrix\n",
        "print('Confusion Matrix')\n",
        "print(confusion_mtx)\n",
        "\n",
        "# Print the classification report\n",
        "print('Classification Report')\n",
        "print(classification_report(Y_test, Y_pred))\n"
      ],
      "metadata": {
        "colab": {
          "base_uri": "https://localhost:8080/"
        },
        "id": "UBTxWyyzsFeI",
        "outputId": "a1b0b16e-4dc1-459a-bf03-d5a03171870e"
      },
      "execution_count": 9,
      "outputs": [
        {
          "output_type": "stream",
          "name": "stdout",
          "text": [
            "445/445 [==============================] - 2s 5ms/step\n",
            "Confusion Matrix\n",
            "[[6249  855]\n",
            " [ 618 6511]]\n",
            "Classification Report\n",
            "              precision    recall  f1-score   support\n",
            "\n",
            "           0       0.91      0.88      0.89      7104\n",
            "           1       0.88      0.91      0.90      7129\n",
            "\n",
            "    accuracy                           0.90     14233\n",
            "   macro avg       0.90      0.90      0.90     14233\n",
            "weighted avg       0.90      0.90      0.90     14233\n",
            "\n"
          ]
        }
      ]
    },
    {
      "cell_type": "code",
      "source": [
        "from keras.wrappers.scikit_learn import KerasClassifier\n",
        "from sklearn.model_selection import GridSearchCV\n",
        "\n",
        "# Define a function to create model, required for KerasClassifier\n",
        "def create_model():\n",
        "    model = Sequential()\n",
        "    model.add(Conv1D(64, 2, activation='relu', input_shape=(10, 1)))  # Increased complexity\n",
        "    model.add(Conv1D(64, 2, activation='relu'))  # Additional convolutional layer for increased complexity\n",
        "    model.add(Flatten())\n",
        "    model.add(Dense(64, activation='relu'))\n",
        "    model.add(Dense(1, activation='sigmoid'))\n",
        "    model.compile(optimizer='adam', loss='binary_crossentropy', metrics=['accuracy'])\n",
        "    return model\n",
        "\n",
        "model = KerasClassifier(build_fn=create_model, verbose=0)\n",
        "\n",
        "# Define the grid search parameters\n",
        "batch_size = [10, 20, 40, 60, 80, 100]\n",
        "epochs = [10, 50, 100]\n",
        "param_grid = dict(batch_size=batch_size, epochs=epochs)\n",
        "\n",
        "\n"
      ],
      "metadata": {
        "colab": {
          "base_uri": "https://localhost:8080/"
        },
        "id": "nthMudygtMPC",
        "outputId": "15533712-8266-46e6-dc0f-f87d561aec2b"
      },
      "execution_count": 10,
      "outputs": [
        {
          "output_type": "stream",
          "name": "stderr",
          "text": [
            "<ipython-input-10-84df76281e4a>:15: DeprecationWarning: KerasClassifier is deprecated, use Sci-Keras (https://github.com/adriangb/scikeras) instead. See https://www.adriangb.com/scikeras/stable/migration.html for help migrating.\n",
            "  model = KerasClassifier(build_fn=create_model, verbose=0)\n"
          ]
        }
      ]
    },
    {
      "cell_type": "code",
      "source": [
        "# Perform Grid Search\n",
        "grid = GridSearchCV(estimator=model, param_grid=param_grid, n_jobs=-1, cv=3)\n",
        "grid_result = grid.fit(X_train, Y_train)\n"
      ],
      "metadata": {
        "id": "HIhBqi-rtxjY"
      },
      "execution_count": 11,
      "outputs": []
    },
    {
      "cell_type": "code",
      "source": [
        "\n",
        "# Summarize results\n",
        "print(\"Best: %f using %s\" % (grid_result.best_score_, grid_result.best_params_))"
      ],
      "metadata": {
        "colab": {
          "base_uri": "https://localhost:8080/"
        },
        "id": "HXD_n5RetzTC",
        "outputId": "b840800b-d53a-4ccc-8505-8b7143b86897"
      },
      "execution_count": 12,
      "outputs": [
        {
          "output_type": "stream",
          "name": "stdout",
          "text": [
            "Best: 0.903035 using {'batch_size': 40, 'epochs': 100}\n"
          ]
        }
      ]
    },
    {
      "cell_type": "code",
      "source": [
        "# Generate predictions\n",
        "Y_pred = (grid_result.predict(X_test) > 0.5).astype(\"int32\")\n",
        "\n",
        "# Calculate confusion matrix\n",
        "conf_matrix = confusion_matrix(Y_test, Y_pred)\n",
        "print(\"Confusion Matrix\")\n",
        "print(conf_matrix)\n",
        "\n",
        "# Calculate classification report\n",
        "class_report = classification_report(Y_test, Y_pred)\n",
        "print(\"Classification Report\")\n",
        "print(class_report)\n"
      ],
      "metadata": {
        "colab": {
          "base_uri": "https://localhost:8080/"
        },
        "id": "uA0taM4ICNlB",
        "outputId": "e707d40d-648b-4f5d-908b-480b114e6f90"
      },
      "execution_count": 15,
      "outputs": [
        {
          "output_type": "stream",
          "name": "stdout",
          "text": [
            "445/445 [==============================] - 2s 3ms/step\n",
            "Confusion Matrix\n",
            "[[6633  471]\n",
            " [ 854 6275]]\n",
            "Classification Report\n",
            "              precision    recall  f1-score   support\n",
            "\n",
            "           0       0.89      0.93      0.91      7104\n",
            "           1       0.93      0.88      0.90      7129\n",
            "\n",
            "    accuracy                           0.91     14233\n",
            "   macro avg       0.91      0.91      0.91     14233\n",
            "weighted avg       0.91      0.91      0.91     14233\n",
            "\n"
          ]
        }
      ]
    },
    {
      "cell_type": "code",
      "source": [
        "from tensorflow.keras.layers import Dropout\n",
        "\n",
        "# Define CNN model\n",
        "model = Sequential()\n",
        "model.add(Conv1D(64, 2, activation='relu', input_shape=(7, 1)))  # Increased filters\n",
        "model.add(Conv1D(32, 2, activation='relu'))  # Additional Convolutional layer\n",
        "model.add(Flatten())\n",
        "model.add(Dense(128, activation='relu'))  # Increased neurons\n",
        "model.add(Dropout(0.5))  # Added dropout for regularization\n",
        "model.add(Dense(64, activation='relu'))  # Additional Dense layer\n",
        "model.add(Dropout(0.5))  # Added dropout for regularization\n",
        "model.add(Dense(1, activation='sigmoid'))\n",
        "\n",
        "# Compile the model\n",
        "model.compile(optimizer='adam', loss='binary_crossentropy', metrics=['accuracy'])\n",
        "\n",
        "# Train the model\n",
        "model.fit(X_train, Y_train, epochs=100, validation_data=(X_test, Y_test), batch_size=40)\n"
      ],
      "metadata": {
        "colab": {
          "base_uri": "https://localhost:8080/",
          "height": 647
        },
        "id": "x0dtLehiCde6",
        "outputId": "e3cd39ed-503d-4ecb-dc0e-df46db97138c"
      },
      "execution_count": 22,
      "outputs": [
        {
          "output_type": "stream",
          "name": "stdout",
          "text": [
            "Epoch 1/100\n"
          ]
        },
        {
          "output_type": "error",
          "ename": "ValueError",
          "evalue": "ignored",
          "traceback": [
            "\u001b[0;31m---------------------------------------------------------------------------\u001b[0m",
            "\u001b[0;31mValueError\u001b[0m                                Traceback (most recent call last)",
            "\u001b[0;32m<ipython-input-22-0464f4cee84b>\u001b[0m in \u001b[0;36m<cell line: 18>\u001b[0;34m()\u001b[0m\n\u001b[1;32m     16\u001b[0m \u001b[0;34m\u001b[0m\u001b[0m\n\u001b[1;32m     17\u001b[0m \u001b[0;31m# Train the model\u001b[0m\u001b[0;34m\u001b[0m\u001b[0;34m\u001b[0m\u001b[0m\n\u001b[0;32m---> 18\u001b[0;31m \u001b[0mmodel\u001b[0m\u001b[0;34m.\u001b[0m\u001b[0mfit\u001b[0m\u001b[0;34m(\u001b[0m\u001b[0mX_train\u001b[0m\u001b[0;34m,\u001b[0m \u001b[0mY_train\u001b[0m\u001b[0;34m,\u001b[0m \u001b[0mepochs\u001b[0m\u001b[0;34m=\u001b[0m\u001b[0;36m100\u001b[0m\u001b[0;34m,\u001b[0m \u001b[0mvalidation_data\u001b[0m\u001b[0;34m=\u001b[0m\u001b[0;34m(\u001b[0m\u001b[0mX_test\u001b[0m\u001b[0;34m,\u001b[0m \u001b[0mY_test\u001b[0m\u001b[0;34m)\u001b[0m\u001b[0;34m,\u001b[0m \u001b[0mbatch_size\u001b[0m\u001b[0;34m=\u001b[0m\u001b[0;36m40\u001b[0m\u001b[0;34m)\u001b[0m\u001b[0;34m\u001b[0m\u001b[0;34m\u001b[0m\u001b[0m\n\u001b[0m",
            "\u001b[0;32m/usr/local/lib/python3.10/dist-packages/keras/utils/traceback_utils.py\u001b[0m in \u001b[0;36merror_handler\u001b[0;34m(*args, **kwargs)\u001b[0m\n\u001b[1;32m     68\u001b[0m             \u001b[0;31m# To get the full stack trace, call:\u001b[0m\u001b[0;34m\u001b[0m\u001b[0;34m\u001b[0m\u001b[0m\n\u001b[1;32m     69\u001b[0m             \u001b[0;31m# `tf.debugging.disable_traceback_filtering()`\u001b[0m\u001b[0;34m\u001b[0m\u001b[0;34m\u001b[0m\u001b[0m\n\u001b[0;32m---> 70\u001b[0;31m             \u001b[0;32mraise\u001b[0m \u001b[0me\u001b[0m\u001b[0;34m.\u001b[0m\u001b[0mwith_traceback\u001b[0m\u001b[0;34m(\u001b[0m\u001b[0mfiltered_tb\u001b[0m\u001b[0;34m)\u001b[0m \u001b[0;32mfrom\u001b[0m \u001b[0;32mNone\u001b[0m\u001b[0;34m\u001b[0m\u001b[0;34m\u001b[0m\u001b[0m\n\u001b[0m\u001b[1;32m     71\u001b[0m         \u001b[0;32mfinally\u001b[0m\u001b[0;34m:\u001b[0m\u001b[0;34m\u001b[0m\u001b[0;34m\u001b[0m\u001b[0m\n\u001b[1;32m     72\u001b[0m             \u001b[0;32mdel\u001b[0m \u001b[0mfiltered_tb\u001b[0m\u001b[0;34m\u001b[0m\u001b[0;34m\u001b[0m\u001b[0m\n",
            "\u001b[0;32m/usr/local/lib/python3.10/dist-packages/keras/engine/training.py\u001b[0m in \u001b[0;36mtf__train_function\u001b[0;34m(iterator)\u001b[0m\n\u001b[1;32m     13\u001b[0m                 \u001b[0;32mtry\u001b[0m\u001b[0;34m:\u001b[0m\u001b[0;34m\u001b[0m\u001b[0;34m\u001b[0m\u001b[0m\n\u001b[1;32m     14\u001b[0m                     \u001b[0mdo_return\u001b[0m \u001b[0;34m=\u001b[0m \u001b[0;32mTrue\u001b[0m\u001b[0;34m\u001b[0m\u001b[0;34m\u001b[0m\u001b[0m\n\u001b[0;32m---> 15\u001b[0;31m                     \u001b[0mretval_\u001b[0m \u001b[0;34m=\u001b[0m \u001b[0mag__\u001b[0m\u001b[0;34m.\u001b[0m\u001b[0mconverted_call\u001b[0m\u001b[0;34m(\u001b[0m\u001b[0mag__\u001b[0m\u001b[0;34m.\u001b[0m\u001b[0mld\u001b[0m\u001b[0;34m(\u001b[0m\u001b[0mstep_function\u001b[0m\u001b[0;34m)\u001b[0m\u001b[0;34m,\u001b[0m \u001b[0;34m(\u001b[0m\u001b[0mag__\u001b[0m\u001b[0;34m.\u001b[0m\u001b[0mld\u001b[0m\u001b[0;34m(\u001b[0m\u001b[0mself\u001b[0m\u001b[0;34m)\u001b[0m\u001b[0;34m,\u001b[0m \u001b[0mag__\u001b[0m\u001b[0;34m.\u001b[0m\u001b[0mld\u001b[0m\u001b[0;34m(\u001b[0m\u001b[0miterator\u001b[0m\u001b[0;34m)\u001b[0m\u001b[0;34m)\u001b[0m\u001b[0;34m,\u001b[0m \u001b[0;32mNone\u001b[0m\u001b[0;34m,\u001b[0m \u001b[0mfscope\u001b[0m\u001b[0;34m)\u001b[0m\u001b[0;34m\u001b[0m\u001b[0;34m\u001b[0m\u001b[0m\n\u001b[0m\u001b[1;32m     16\u001b[0m                 \u001b[0;32mexcept\u001b[0m\u001b[0;34m:\u001b[0m\u001b[0;34m\u001b[0m\u001b[0;34m\u001b[0m\u001b[0m\n\u001b[1;32m     17\u001b[0m                     \u001b[0mdo_return\u001b[0m \u001b[0;34m=\u001b[0m \u001b[0;32mFalse\u001b[0m\u001b[0;34m\u001b[0m\u001b[0;34m\u001b[0m\u001b[0m\n",
            "\u001b[0;31mValueError\u001b[0m: in user code:\n\n    File \"/usr/local/lib/python3.10/dist-packages/keras/engine/training.py\", line 1284, in train_function  *\n        return step_function(self, iterator)\n    File \"/usr/local/lib/python3.10/dist-packages/keras/engine/training.py\", line 1268, in step_function  **\n        outputs = model.distribute_strategy.run(run_step, args=(data,))\n    File \"/usr/local/lib/python3.10/dist-packages/keras/engine/training.py\", line 1249, in run_step  **\n        outputs = model.train_step(data)\n    File \"/usr/local/lib/python3.10/dist-packages/keras/engine/training.py\", line 1050, in train_step\n        y_pred = self(x, training=True)\n    File \"/usr/local/lib/python3.10/dist-packages/keras/utils/traceback_utils.py\", line 70, in error_handler\n        raise e.with_traceback(filtered_tb) from None\n    File \"/usr/local/lib/python3.10/dist-packages/keras/engine/input_spec.py\", line 298, in assert_input_compatibility\n        raise ValueError(\n\n    ValueError: Input 0 of layer \"sequential_4\" is incompatible with the layer: expected shape=(None, 7, 1), found shape=(None, 10, 1)\n"
          ]
        }
      ]
    },
    {
      "cell_type": "code",
      "source": [
        "from sklearn.metrics import confusion_matrix, classification_report\n",
        "\n",
        "# Predict the values from the validation dataset\n",
        "Y_pred = (model.predict(X_test) > 0.5).astype(\"int32\")\n",
        "\n",
        "# Compute the confusion matrix\n",
        "confusion_mtx = confusion_matrix(Y_test, Y_pred)\n",
        "\n",
        "# Display the confusion matrix\n",
        "print('Confusion Matrix')\n",
        "print(confusion_mtx)\n",
        "\n",
        "# Compute and display the classification report\n",
        "print('Classification Report')\n",
        "print(classification_report(Y_test, Y_pred))\n"
      ],
      "metadata": {
        "colab": {
          "base_uri": "https://localhost:8080/"
        },
        "id": "PV1B1umYDgel",
        "outputId": "de184508-4a15-4bef-974c-ed324a677a5f"
      },
      "execution_count": 19,
      "outputs": [
        {
          "output_type": "stream",
          "name": "stdout",
          "text": [
            "445/445 [==============================] - 2s 4ms/step\n",
            "Confusion Matrix\n",
            "[[6400  704]\n",
            " [ 722 6407]]\n",
            "Classification Report\n",
            "              precision    recall  f1-score   support\n",
            "\n",
            "           0       0.90      0.90      0.90      7104\n",
            "           1       0.90      0.90      0.90      7129\n",
            "\n",
            "    accuracy                           0.90     14233\n",
            "   macro avg       0.90      0.90      0.90     14233\n",
            "weighted avg       0.90      0.90      0.90     14233\n",
            "\n"
          ]
        }
      ]
    },
    {
      "cell_type": "code",
      "source": [
        "# Save the model\n",
        "model.save('my_tuned_model.h5')\n"
      ],
      "metadata": {
        "id": "ZF_fXoGTFJuB"
      },
      "execution_count": 21,
      "outputs": []
    },
    {
      "cell_type": "code",
      "source": [],
      "metadata": {
        "id": "4pv72X8KNAl1"
      },
      "execution_count": null,
      "outputs": []
    },
    {
      "cell_type": "code",
      "source": [],
      "metadata": {
        "colab": {
          "base_uri": "https://localhost:8080/",
          "height": 164
        },
        "id": "LfcCvUr3GXEN",
        "outputId": "a02b362c-0c0f-4433-c7a8-34be92bc92eb"
      },
      "execution_count": 2,
      "outputs": [
        {
          "output_type": "error",
          "ename": "NameError",
          "evalue": "ignored",
          "traceback": [
            "\u001b[0;31m---------------------------------------------------------------------------\u001b[0m",
            "\u001b[0;31mNameError\u001b[0m                                 Traceback (most recent call last)",
            "\u001b[0;32m<ipython-input-2-ac86058b13cf>\u001b[0m in \u001b[0;36m<cell line: 1>\u001b[0;34m()\u001b[0m\n\u001b[0;32m----> 1\u001b[0;31m \u001b[0mmodel\u001b[0m\u001b[0;34m.\u001b[0m\u001b[0mpredict\u001b[0m \u001b[0;34m(\u001b[0m\u001b[0;34m[\u001b[0m\u001b[0;34m[\u001b[0m\u001b[0;36m0.585903083700441\u001b[0m\u001b[0;34m,\u001b[0m\u001b[0;36m80\u001b[0m\u001b[0;34m,\u001b[0m\u001b[0;36m99\u001b[0m\u001b[0;34m,\u001b[0m\u001b[0;36m4.75\u001b[0m\u001b[0;34m,\u001b[0m\u001b[0;36m3.1\u001b[0m\u001b[0;34m,\u001b[0m\u001b[0;36m6.3\u001b[0m\u001b[0;34m,\u001b[0m\u001b[0;36m43.43\u001b[0m\u001b[0;34m,\u001b[0m\u001b[0;36m14\u001b[0m\u001b[0;34m,\u001b[0m\u001b[0;36m14.6\u001b[0m\u001b[0;34m,\u001b[0m\u001b[0;36m0.13804\u001b[0m\u001b[0;34m]\u001b[0m\u001b[0;34m]\u001b[0m\u001b[0;34m)\u001b[0m\u001b[0;34m\u001b[0m\u001b[0;34m\u001b[0m\u001b[0m\n\u001b[0m",
            "\u001b[0;31mNameError\u001b[0m: name 'model' is not defined"
          ]
        }
      ]
    },
    {
      "cell_type": "code",
      "source": [],
      "metadata": {
        "id": "c6aHDyNyM7_U"
      },
      "execution_count": null,
      "outputs": []
    }
  ]
}