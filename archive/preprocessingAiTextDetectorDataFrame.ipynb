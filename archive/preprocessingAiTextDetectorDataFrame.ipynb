{
 "cells": [
  {
   "cell_type": "code",
   "execution_count": 25,
   "id": "724fcc77",
   "metadata": {},
   "outputs": [],
   "source": [
    "#install dependencies\n",
    "import pandas as pd\n",
    "import numpy as np\n",
    "#import plotnine as p9\n",
    "\n"
   ]
  },
  {
   "cell_type": "code",
   "execution_count": 26,
   "id": "3737bf19",
   "metadata": {
    "scrolled": false
   },
   "outputs": [
    {
     "data": {
      "text/plain": [
       "0        Dear local newspaper, I think effects computer...\n",
       "1        Dear @CAPS1 @CAPS2, I believe that using compu...\n",
       "2        Dear, @CAPS1 @CAPS2 @CAPS3 More and more peopl...\n",
       "3        Dear Local Newspaper, @CAPS1 I have found that...\n",
       "4        Dear @LOCATION1, I know having computers has a...\n",
       "                               ...                        \n",
       "21445    Just One @CAPS1 @CAPS2 can bring people togeth...\n",
       "21446     @CAPS8 Was my first time going to the band ca...\n",
       "21447    Laughter is one of the most important things i...\n",
       "21448                                    A @CAPS1 Of @C...\n",
       "21449      Good @CAPS1 In @LOCATION1.  Every year a sel...\n",
       "Name: essay, Length: 21450, dtype: object"
      ]
     },
     "execution_count": 26,
     "metadata": {},
     "output_type": "execute_result"
    }
   ],
   "source": [
    "#install the “popular” subset of NLTK data, on the command line type\n",
    "#python -m nltk.downloader popular(mac)\n",
    "\n",
    "\n",
    "#TextBlob's documentation indicate that 2 steps are required to install textblob:\n",
    "#pip install -U textblob\n",
    "\n",
    "asap_df = pd.read_excel(\"/Users/gayanmeerigama/Creative Cloud Files/Data Analytics Boot Camp/copyaiTextDetector/cleanData/mergedAsap.xlsx\")\n",
    "asap_df[\"essay\"]"
   ]
  },
  {
   "cell_type": "code",
   "execution_count": 27,
   "id": "20cc6afb",
   "metadata": {
    "scrolled": true
   },
   "outputs": [
    {
     "data": {
      "text/plain": [
       "0        Dear local newspaper  I think effects computer...\n",
       "1        Dear  CAPS1  CAPS2  I believe that using compu...\n",
       "2        Dear   CAPS1  CAPS2  CAPS3 More and more peopl...\n",
       "3        Dear Local Newspaper   CAPS1 I have found that...\n",
       "4        Dear  LOCATION1  I know having computers has a...\n",
       "                               ...                        \n",
       "21445    Just One  CAPS1  CAPS2 can bring people togeth...\n",
       "21446      CAPS8 Was my first time going to the band ca...\n",
       "21447    Laughter is one of the most important things i...\n",
       "21448                                    A  CAPS1 Of  C...\n",
       "21449      Good  CAPS1 In  LOCATION1   Every year a sel...\n",
       "Name: essay, Length: 21450, dtype: object"
      ]
     },
     "execution_count": 27,
     "metadata": {},
     "output_type": "execute_result"
    }
   ],
   "source": [
    "#Removing Special Charactes \n",
    "\n",
    "Remove_Special_CharactersDf=asap_df[\"essay\"].str.replace('\\W', ' ', regex=True)\n",
    "Remove_Special_CharactersDf\n",
    "\n",
    "#sentence= Remove_Special_CharactersDf.loc[asap_df.index[1]]\n",
    "#sentence"
   ]
  },
  {
   "cell_type": "code",
   "execution_count": null,
   "id": "d9a66d3e",
   "metadata": {},
   "outputs": [],
   "source": []
  },
  {
   "cell_type": "code",
   "execution_count": 28,
   "id": "df02e47b",
   "metadata": {
    "scrolled": true
   },
   "outputs": [
    {
     "data": {
      "text/plain": [
       "0        Dear local newspaper I think effect computer h...\n",
       "1        Dear CAPS1 CAPS2 I believe that use computer w...\n",
       "2        Dear CAPS1 CAPS2 CAPS3 More and more people us...\n",
       "3        Dear Local Newspaper CAPS1 I have find that ma...\n",
       "4        Dear LOCATION1 I know have computer have a pos...\n",
       "                               ...                        \n",
       "21445    Just One CAPS1 CAPS2 can bring people together...\n",
       "21446    CAPS8 Was my first time go to the band camp at...\n",
       "21447    Laughter be one of the most important thing in...\n",
       "21448    A CAPS1 Of CAPS2 Laughter one language we can ...\n",
       "21449    Good CAPS1 In LOCATION1 Every year a select fe...\n",
       "Name: essay, Length: 21450, dtype: object"
      ]
     },
     "execution_count": 28,
     "metadata": {},
     "output_type": "execute_result"
    }
   ],
   "source": [
    "# lemmatization is a lot more powerful. It looks beyond word reduction and considers a language’s full vocabulary to\n",
    "# apply a morphological analysis to words, aiming to remove inflectional endings only and to return the base or \n",
    "# dictionary form of a word\n",
    "# Wordnet is a publicly available lexical database of over 200 languages that provides semantic relationships betweenits words\n",
    "\n",
    "import nltk\n",
    "from nltk.corpus import stopwords\n",
    "from nltk.tokenize import word_tokenize\n",
    "from nltk.stem.wordnet import WordNetLemmatizer\n",
    "from nltk.corpus import wordnet\n",
    "lemmatizer = nltk.stem.WordNetLemmatizer()\n",
    "wordnet_lemmatizer = WordNetLemmatizer()\n",
    "stop = stopwords.words('english')\n",
    "\n",
    "\n",
    "def nltk_tag_to_wordnet_tag(nltk_tag):\n",
    "    if nltk_tag.startswith('J'):\n",
    "        return wordnet.ADJ\n",
    "    elif nltk_tag.startswith('V'):\n",
    "        return wordnet.VERB\n",
    "    elif nltk_tag.startswith('N'):\n",
    "        return wordnet.NOUN\n",
    "    elif nltk_tag.startswith('R'):\n",
    "        return wordnet.ADV\n",
    "    else:\n",
    "        return None\n",
    "\n",
    "def lemmatize_sentence(Remove_Special_CharactersDf):\n",
    "    #tokenize the sentence and find the POS tag for each token\n",
    "    nltk_tagged = nltk.pos_tag(nltk.word_tokenize(Remove_Special_CharactersDf))\n",
    "    #tuple of (token, wordnet_tag)\n",
    "    wordnet_tagged = map(lambda x: (x[0], nltk_tag_to_wordnet_tag(x[1])), nltk_tagged)\n",
    "    lemmatized_sentence = []\n",
    "    for word, tag in wordnet_tagged:\n",
    "        if tag is None:\n",
    "            #if there is no available tag, append the token as is\n",
    "            lemmatized_sentence.append(word)\n",
    "        else:\n",
    "            #else use the tag to lemmatize the token\n",
    "            lemmatized_sentence.append(lemmatizer.lemmatize(word, tag))\n",
    "    return \" \".join(lemmatized_sentence)\n",
    "\n",
    "\n",
    "\n",
    "# Lemmatizing\n",
    "Remove_Special_CharactersDf['words'] = Remove_Special_CharactersDf.apply(lambda x: lemmatize_sentence(x))\n",
    "#df['words'] = df['body'].apply(lambda x: lemmatize_sentence(x))\n",
    "#print(Remove_Special_CharactersDf.head())\n",
    "Remove_Special_CharactersDf['words']"
   ]
  },
  {
   "cell_type": "code",
   "execution_count": 29,
   "id": "33b721e6",
   "metadata": {},
   "outputs": [
    {
     "data": {
      "text/plain": [
       "'Dear  CAPS1  CAPS2  I believe that using computers will benefit us in many ways like talking and becoming friends will others through websites like facebook and mysace  Using computers can help us find coordibates  locations  and able ourselfs to millions of information  Also computers will benefit us by helping with jobs as in planning a house plan and typing a  NUM1 page report for one of our jobs in less than writing it  Now lets go into the wonder world of technology  Using a computer will help us in life by talking or making friends on line  Many people have myspace  facebooks  aim  these all benefit us by having conversations with one another  Many people believe computers are bad but how can you make friends if you can never talk to them  I am very fortunate for having a computer that can help with not only school work but my social life and how I make friends  Computers help us with finding our locations  coordibates and millions of information online  If we didn t go on the internet a lot we wouldn t know how to go onto websites that  MONTH1 help us with locations and coordinates like  LOCATION1  Would you rather use a computer or be in  LOCATION3  When your supposed to be vacationing in  LOCATION2  Million of information is found on the internet  You can as almost every question and a computer will have it  Would you rather easily draw up a house plan on the computers or take  NUM1 hours doing one by hand with ugly erazer marks all over it  you are garrenteed that to find a job with a drawing like that  Also when appling for a job many workers must write very long papers like a  NUM3 word essay on why this job fits you the most  and many people I know don t like writing  NUM3 words non stopp for hours when it could take them I hav an a computer  That is why computers we needed a lot now adays  I hope this essay has impacted your descion on computers because they are great machines to work with  The other day I showed my mom how to use a computer and she said it was the greatest invention sense sliced bread  Now go out and buy a computer to help you chat online with friends  find locations and millions of information on one click of the button and help your self with getting a job with neat  prepared  printed work that your boss will love '"
      ]
     },
     "execution_count": 29,
     "metadata": {},
     "output_type": "execute_result"
    }
   ],
   "source": [
    "Remove_Special_CharactersDf.loc[asap_df.index[1]]"
   ]
  },
  {
   "cell_type": "code",
   "execution_count": 35,
   "id": "ba33660f",
   "metadata": {
    "scrolled": false
   },
   "outputs": [
    {
     "data": {
      "text/plain": [
       "'Dear CAPS1 CAPS2 I believe that use computer will benefit us in many way like talk and become friend will others through website like facebook and mysace Using computer can help us find coordibates location and able ourselfs to million of information Also computer will benefit us by help with job as in plan a house plan and type a NUM1 page report for one of our job in less than write it Now let go into the wonder world of technology Using a computer will help us in life by talk or make friend on line Many people have myspace facebooks aim these all benefit us by have conversation with one another Many people believe computer be bad but how can you make friend if you can never talk to them I be very fortunate for have a computer that can help with not only school work but my social life and how I make friend Computers help us with find our location coordibates and million of information online If we didn t go on the internet a lot we wouldn t know how to go onto website that MONTH1 help us with location and coordinate like LOCATION1 Would you rather use a computer or be in LOCATION3 When your suppose to be vacation in LOCATION2 Million of information be find on the internet You can as almost every question and a computer will have it Would you rather easily draw up a house plan on the computer or take NUM1 hour do one by hand with ugly erazer mark all over it you be garrenteed that to find a job with a draw like that Also when appling for a job many worker must write very long paper like a NUM3 word essay on why this job fit you the most and many people I know don t like write NUM3 word non stopp for hour when it could take them I hav an a computer That be why computer we need a lot now adays I hope this essay have impact your descion on computer because they be great machine to work with The other day I show my mom how to use a computer and she say it be the great invention sense slice bread Now go out and buy a computer to help you chat online with friend find location and million of information on one click of the button and help your self with get a job with neat prepare printed work that your bos will love'"
      ]
     },
     "execution_count": 35,
     "metadata": {},
     "output_type": "execute_result"
    }
   ],
   "source": [
    "Remove_Special_CharactersDf['words'][1]"
   ]
  },
  {
   "cell_type": "code",
   "execution_count": null,
   "id": "ec2c8b3d",
   "metadata": {
    "scrolled": false
   },
   "outputs": [],
   "source": []
  },
  {
   "cell_type": "code",
   "execution_count": 52,
   "id": "32b68d5b",
   "metadata": {
    "scrolled": false
   },
   "outputs": [
    {
     "name": "stdout",
     "output_type": "stream",
     "text": [
      "Dear CAPS1 CAPS2 I believe use computer benefit us many way like talk become friend others website like facebook mysace Using computer help us find coordibates location able ourselfs million information Also computer benefit us help job plan house plan type NUM1 page report one job less write Now let go wonder world technology Using computer help us life talk make friend line Many people myspace facebooks aim benefit us conversation one another Many people believe computer bad make friend never talk I fortunate computer help school work social life I make friend Computers help us find location coordibates million information online If go internet lot know go onto website MONTH1 help us location coordinate like LOCATION1 Would rather use computer LOCATION3 When suppose vacation LOCATION2 Million information find internet You almost every question computer Would rather easily draw house plan computer take NUM1 hour one hand ugly erazer mark garrenteed find job draw like Also appling job many worker must write long paper like NUM3 word essay job fit many people I know like write NUM3 word non stopp hour could take I hav computer That computer need lot adays I hope essay impact descion computer great machine work The day I show mom use computer say great invention sense slice bread Now go buy computer help chat online friend find location million information one click button help self get job neat prepare printed work bos love\n",
      "Old length:  2148\n",
      "New length:  1446\n"
     ]
    }
   ],
   "source": [
    "#The words which are generally filtered out before processing a natural language are called stop words\n",
    "#Examples of a few stop words in English are “the”, “a”, “an”, “so”, “what”.\n",
    "#NLTK is a library to play with natural language.The steps to import the library and the English stop words list\n",
    "from nltk.corpus import stopwords\n",
    "stop = stopwords.words('english')\n",
    "\n",
    "# Exclude stopwords with Python's list comprehension and pandas.DataFrame.apply.\n",
    "Remove_Special_CharactersDf['without_stopwords'] = Remove_Special_CharactersDf['words'].apply(lambda x: ' '.join([word for word in x.split() if word not in (stop)]))\n",
    "print(Remove_Special_CharactersDf['without_stopwords'][1])\n",
    "print(\"Old length: \", len(Remove_Special_CharactersDf['words'][1]))\n",
    "print(\"New length: \", len(Remove_Special_CharactersDf['without_stopwords'][1]))"
   ]
  },
  {
   "cell_type": "code",
   "execution_count": null,
   "id": "e15e44dd",
   "metadata": {},
   "outputs": [],
   "source": []
  },
  {
   "cell_type": "code",
   "execution_count": null,
   "id": "93e23d2f",
   "metadata": {},
   "outputs": [],
   "source": []
  }
 ],
 "metadata": {
  "kernelspec": {
   "display_name": "Python 3 (ipykernel)",
   "language": "python",
   "name": "python3"
  },
  "language_info": {
   "codemirror_mode": {
    "name": "ipython",
    "version": 3
   },
   "file_extension": ".py",
   "mimetype": "text/x-python",
   "name": "python",
   "nbconvert_exporter": "python",
   "pygments_lexer": "ipython3",
   "version": "3.9.13"
  }
 },
 "nbformat": 4,
 "nbformat_minor": 5
}
